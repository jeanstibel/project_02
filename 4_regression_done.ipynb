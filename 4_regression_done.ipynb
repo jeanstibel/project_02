{
 "cells": [
  {
   "cell_type": "markdown",
   "metadata": {},
   "source": [
    "#Regression: Predicting Volatility – Using historical data to forecast future volatility."
   ]
  },
  {
   "cell_type": "code",
   "execution_count": 66,
   "metadata": {},
   "outputs": [],
   "source": [
    "import pandas as pd\n",
    "from sklearn.model_selection import train_test_split\n",
    "from sklearn.linear_model import LinearRegression, Ridge, Lasso\n",
    "from sklearn.metrics import mean_squared_error, r2_score\n",
    "import numpy as np\n",
    "import matplotlib.pyplot as plt\n",
    "import seaborn as sns\n",
    "from sklearn.preprocessing import StandardScaler\n",
    "\n",
    "from sklearn.metrics import classification_report, confusion_matrix\n",
    "from sklearn.impute import SimpleImputer"
   ]
  },
  {
   "cell_type": "code",
   "execution_count": 67,
   "metadata": {},
   "outputs": [
    {
     "data": {
      "text/html": [
       "<div>\n",
       "<style scoped>\n",
       "    .dataframe tbody tr th:only-of-type {\n",
       "        vertical-align: middle;\n",
       "    }\n",
       "\n",
       "    .dataframe tbody tr th {\n",
       "        vertical-align: top;\n",
       "    }\n",
       "\n",
       "    .dataframe thead th {\n",
       "        text-align: right;\n",
       "    }\n",
       "</style>\n",
       "<table border=\"1\" class=\"dataframe\">\n",
       "  <thead>\n",
       "    <tr style=\"text-align: right;\">\n",
       "      <th></th>\n",
       "      <th>date</th>\n",
       "      <th>crypto_id</th>\n",
       "      <th>open</th>\n",
       "      <th>close</th>\n",
       "      <th>high</th>\n",
       "      <th>low</th>\n",
       "      <th>volume</th>\n",
       "      <th>number_of_trades</th>\n",
       "      <th>diff_oc</th>\n",
       "      <th>return</th>\n",
       "      <th>volatility</th>\n",
       "      <th>vol_change</th>\n",
       "      <th>ma_5</th>\n",
       "      <th>ma_10</th>\n",
       "      <th>price_movement</th>\n",
       "    </tr>\n",
       "  </thead>\n",
       "  <tbody>\n",
       "    <tr>\n",
       "      <th>0</th>\n",
       "      <td>2020-09-22</td>\n",
       "      <td>AVAX</td>\n",
       "      <td>0.8500</td>\n",
       "      <td>5.3193</td>\n",
       "      <td>7.0000</td>\n",
       "      <td>0.8500</td>\n",
       "      <td>31441883.16</td>\n",
       "      <td>375884</td>\n",
       "      <td>4.4693</td>\n",
       "      <td>525.800000</td>\n",
       "      <td>723.529412</td>\n",
       "      <td>0.000000</td>\n",
       "      <td>0.00000</td>\n",
       "      <td>0.0</td>\n",
       "      <td>1</td>\n",
       "    </tr>\n",
       "    <tr>\n",
       "      <th>1</th>\n",
       "      <td>2020-09-23</td>\n",
       "      <td>AVAX</td>\n",
       "      <td>5.3279</td>\n",
       "      <td>3.5350</td>\n",
       "      <td>5.3600</td>\n",
       "      <td>3.4000</td>\n",
       "      <td>12620608.01</td>\n",
       "      <td>168336</td>\n",
       "      <td>-1.7929</td>\n",
       "      <td>-33.651157</td>\n",
       "      <td>36.787477</td>\n",
       "      <td>-59.860521</td>\n",
       "      <td>0.00000</td>\n",
       "      <td>0.0</td>\n",
       "      <td>0</td>\n",
       "    </tr>\n",
       "    <tr>\n",
       "      <th>2</th>\n",
       "      <td>2020-09-24</td>\n",
       "      <td>AVAX</td>\n",
       "      <td>3.5305</td>\n",
       "      <td>4.6411</td>\n",
       "      <td>4.8873</td>\n",
       "      <td>3.4033</td>\n",
       "      <td>7107843.86</td>\n",
       "      <td>104806</td>\n",
       "      <td>1.1106</td>\n",
       "      <td>31.457301</td>\n",
       "      <td>42.033706</td>\n",
       "      <td>-43.680654</td>\n",
       "      <td>0.00000</td>\n",
       "      <td>0.0</td>\n",
       "      <td>1</td>\n",
       "    </tr>\n",
       "    <tr>\n",
       "      <th>3</th>\n",
       "      <td>2020-09-25</td>\n",
       "      <td>AVAX</td>\n",
       "      <td>4.6366</td>\n",
       "      <td>4.7134</td>\n",
       "      <td>5.0234</td>\n",
       "      <td>4.2001</td>\n",
       "      <td>3886096.71</td>\n",
       "      <td>78381</td>\n",
       "      <td>0.0768</td>\n",
       "      <td>1.656386</td>\n",
       "      <td>17.756546</td>\n",
       "      <td>-45.326645</td>\n",
       "      <td>0.00000</td>\n",
       "      <td>0.0</td>\n",
       "      <td>1</td>\n",
       "    </tr>\n",
       "    <tr>\n",
       "      <th>4</th>\n",
       "      <td>2020-09-26</td>\n",
       "      <td>AVAX</td>\n",
       "      <td>4.7164</td>\n",
       "      <td>4.5200</td>\n",
       "      <td>4.8200</td>\n",
       "      <td>4.3294</td>\n",
       "      <td>1814932.97</td>\n",
       "      <td>34016</td>\n",
       "      <td>-0.1964</td>\n",
       "      <td>-4.164193</td>\n",
       "      <td>10.402002</td>\n",
       "      <td>-53.296763</td>\n",
       "      <td>4.54576</td>\n",
       "      <td>0.0</td>\n",
       "      <td>0</td>\n",
       "    </tr>\n",
       "  </tbody>\n",
       "</table>\n",
       "</div>"
      ],
      "text/plain": [
       "         date crypto_id    open   close    high     low       volume  \\\n",
       "0  2020-09-22      AVAX  0.8500  5.3193  7.0000  0.8500  31441883.16   \n",
       "1  2020-09-23      AVAX  5.3279  3.5350  5.3600  3.4000  12620608.01   \n",
       "2  2020-09-24      AVAX  3.5305  4.6411  4.8873  3.4033   7107843.86   \n",
       "3  2020-09-25      AVAX  4.6366  4.7134  5.0234  4.2001   3886096.71   \n",
       "4  2020-09-26      AVAX  4.7164  4.5200  4.8200  4.3294   1814932.97   \n",
       "\n",
       "   number_of_trades  diff_oc      return  volatility  vol_change     ma_5  \\\n",
       "0            375884   4.4693  525.800000  723.529412    0.000000  0.00000   \n",
       "1            168336  -1.7929  -33.651157   36.787477  -59.860521  0.00000   \n",
       "2            104806   1.1106   31.457301   42.033706  -43.680654  0.00000   \n",
       "3             78381   0.0768    1.656386   17.756546  -45.326645  0.00000   \n",
       "4             34016  -0.1964   -4.164193   10.402002  -53.296763  4.54576   \n",
       "\n",
       "   ma_10  price_movement  \n",
       "0    0.0               1  \n",
       "1    0.0               0  \n",
       "2    0.0               1  \n",
       "3    0.0               1  \n",
       "4    0.0               0  "
      ]
     },
     "execution_count": 67,
     "metadata": {},
     "output_type": "execute_result"
    }
   ],
   "source": [
    "# Import data from csv file\n",
    "df = pd.read_csv('/Users/jeanstibel/Documents/AI Classes/Projects/project_02/Resources/df_top_10.csv')\n",
    "df.head()"
   ]
  },
  {
   "cell_type": "code",
   "execution_count": 68,
   "metadata": {},
   "outputs": [
    {
     "data": {
      "text/plain": [
       "date                0\n",
       "crypto_id           0\n",
       "open                0\n",
       "close               0\n",
       "high                0\n",
       "low                 0\n",
       "volume              0\n",
       "number_of_trades    0\n",
       "diff_oc             0\n",
       "return              0\n",
       "volatility          0\n",
       "vol_change          0\n",
       "ma_5                0\n",
       "ma_10               0\n",
       "price_movement      0\n",
       "dtype: int64"
      ]
     },
     "execution_count": 68,
     "metadata": {},
     "output_type": "execute_result"
    }
   ],
   "source": [
    "# check for nan values\n",
    "df.isna().sum()"
   ]
  },
  {
   "cell_type": "code",
   "execution_count": 69,
   "metadata": {},
   "outputs": [],
   "source": [
    "# Define the features\n",
    "features = ['volatility', 'return', 'volume', 'diff_oc', 'ma_5', 'ma_10'] #  'diff_oc','vol_change',  'number_of_trades'\n",
    "features_df = df[features].copy()\n",
    "\n",
    "# Define target and features\n",
    "target = 'volatility'\n",
    "\n",
    "# Split the data into features (X) and target (y)\n",
    "X = features_df[features]\n",
    "y = features_df[target]\n",
    "\n",
    "# Split the data into training and testing sets\n",
    "X_train, X_test, y_train, y_test = train_test_split(X, y, test_size=0.2, random_state=42)\n",
    "\n",
    "# Apply StandardScaler to the features\n",
    "scaler = StandardScaler()\n",
    "X_train_scaled = scaler.fit_transform(X_train)\n",
    "X_test_scaled = scaler.transform(X_test)"
   ]
  },
  {
   "cell_type": "code",
   "execution_count": 70,
   "metadata": {},
   "outputs": [],
   "source": [
    "# Initialize models\n",
    "models = {\n",
    "    'Linear Regression': LinearRegression(),\n",
    "    'Ridge Regression': Ridge(alpha=1.0),\n",
    "    'Lasso Regression': Lasso(alpha=0.01)\n",
    "}"
   ]
  },
  {
   "cell_type": "code",
   "execution_count": 71,
   "metadata": {},
   "outputs": [
    {
     "name": "stderr",
     "output_type": "stream",
     "text": [
      "/Library/Frameworks/Python.framework/Versions/3.13/lib/python3.13/site-packages/sklearn/linear_model/_ridge.py:215: LinAlgWarning: Ill-conditioned matrix (rcond=4.1506e-24): result may not be accurate.\n",
      "  return linalg.solve(A, Xy, assume_a=\"pos\", overwrite_a=True).T\n"
     ]
    },
    {
     "data": {
      "text/html": [
       "<div>\n",
       "<style scoped>\n",
       "    .dataframe tbody tr th:only-of-type {\n",
       "        vertical-align: middle;\n",
       "    }\n",
       "\n",
       "    .dataframe tbody tr th {\n",
       "        vertical-align: top;\n",
       "    }\n",
       "\n",
       "    .dataframe thead th {\n",
       "        text-align: right;\n",
       "    }\n",
       "</style>\n",
       "<table border=\"1\" class=\"dataframe\">\n",
       "  <thead>\n",
       "    <tr style=\"text-align: right;\">\n",
       "      <th></th>\n",
       "      <th>Mean Squared Error</th>\n",
       "      <th>R-squared Score</th>\n",
       "    </tr>\n",
       "  </thead>\n",
       "  <tbody>\n",
       "    <tr>\n",
       "      <th>Linear Regression</th>\n",
       "      <td>1.401356e+00</td>\n",
       "      <td>0.999639</td>\n",
       "    </tr>\n",
       "    <tr>\n",
       "      <th>Ridge Regression</th>\n",
       "      <td>6.766137e-12</td>\n",
       "      <td>1.000000</td>\n",
       "    </tr>\n",
       "    <tr>\n",
       "      <th>Lasso Regression</th>\n",
       "      <td>4.701691e-07</td>\n",
       "      <td>1.000000</td>\n",
       "    </tr>\n",
       "  </tbody>\n",
       "</table>\n",
       "</div>"
      ],
      "text/plain": [
       "                   Mean Squared Error  R-squared Score\n",
       "Linear Regression        1.401356e+00         0.999639\n",
       "Ridge Regression         6.766137e-12         1.000000\n",
       "Lasso Regression         4.701691e-07         1.000000"
      ]
     },
     "execution_count": 71,
     "metadata": {},
     "output_type": "execute_result"
    }
   ],
   "source": [
    "# Train and evaluate models\n",
    "results = {}\n",
    "\n",
    "for model_name, model in models.items():\n",
    "    model.fit(X_train, y_train)\n",
    "    y_pred = model.predict(X_test)\n",
    "    mse = mean_squared_error(y_test, y_pred)\n",
    "    r2 = r2_score(y_test, y_pred)\n",
    "    results[model_name] = {\n",
    "        'Mean Squared Error': mse,\n",
    "        'R-squared Score': r2\n",
    "    }\n",
    "\n",
    "results_df = pd.DataFrame(results).T\n",
    "results_df"
   ]
  },
  {
   "cell_type": "code",
   "execution_count": 72,
   "metadata": {},
   "outputs": [
    {
     "name": "stdout",
     "output_type": "stream",
     "text": [
      "Training Mean Squared Error (MSE): 3.4288401204132936e-27\n",
      "Training R-squared (R2): 1.0\n",
      "Testing Mean Squared Error (MSE): 1.3494891954093167e-26\n",
      "Testing R-squared (R2): 1.0\n"
     ]
    }
   ],
   "source": [
    "# MOde 2\n",
    "\n",
    "# Initialize and train a simple Linear Regression model\n",
    "model = LinearRegression()\n",
    "model.fit(X_train_scaled, y_train)\n",
    "\n",
    "# Make predictions on the training and testing sets\n",
    "y_train_pred = model.predict(X_train_scaled)\n",
    "y_test_pred = model.predict(X_test_scaled)\n",
    "\n",
    "# Calculate Mean Squared Error (MSE) and R-squared (R2) for both training and testing sets\n",
    "mse_train = mean_squared_error(y_train, y_train_pred)\n",
    "mse_test = mean_squared_error(y_test, y_test_pred)\n",
    "\n",
    "r2_train = r2_score(y_train, y_train_pred)\n",
    "r2_test = r2_score(y_test, y_test_pred)\n",
    "\n",
    "\n",
    "# Print the results\n",
    "print(\"Training Mean Squared Error (MSE):\", mse_train)\n",
    "print(\"Training R-squared (R2):\", r2_train)\n",
    "print(\"Testing Mean Squared Error (MSE):\", mse_test)\n",
    "print(\"Testing R-squared (R2):\", r2_test)\n"
   ]
  },
  {
   "cell_type": "code",
   "execution_count": 73,
   "metadata": {},
   "outputs": [],
   "source": [
    "# function for the adjusted r-squared function\n",
    "def r2_adj(x, y, model):\n",
    "    r2 = model.score(x,y)\n",
    "    n_cols = x.shape[1]\n",
    "    return 1 - (1 - r2) * (len(y) - 1) / (len(y) - n_cols - 1)"
   ]
  },
  {
   "cell_type": "code",
   "execution_count": 74,
   "metadata": {},
   "outputs": [
    {
     "name": "stdout",
     "output_type": "stream",
     "text": [
      "All Features Adjusted R2: 1.0\n"
     ]
    }
   ],
   "source": [
    "# Calculate the adjusted r-squared value of the model\n",
    "adj_score1 = r2_adj(X_test_scaled, y_test, model)\n",
    "\n",
    "print(f\"All Features Adjusted R2: {adj_score1}\")\n"
   ]
  },
  {
   "cell_type": "code",
   "execution_count": 75,
   "metadata": {},
   "outputs": [
    {
     "name": "stdout",
     "output_type": "stream",
     "text": [
      "All scores: [1. 1. 1. 1. 1.]\n",
      "Mean score: 1.0\n",
      "Standard Deviation: 0.0\n"
     ]
    }
   ],
   "source": [
    "# Examine linear regression on the better training data using cross validation\n",
    "from sklearn.model_selection import cross_val_score\n",
    "\n",
    "# Combine X_train and X_test to create X_full_train\n",
    "X_full_train = np.concatenate((X_train_scaled, X_test_scaled), axis=0)\n",
    "y_full_train = np.concatenate((y_train, y_test), axis=0)\n",
    "\n",
    "cv_scores = cross_val_score(LinearRegression(), X_full_train, y_full_train, scoring=\"r2\")\n",
    "print(f\"All scores: {cv_scores}\")\n",
    "print(f\"Mean score: {cv_scores.mean()}\")\n",
    "print(f\"Standard Deviation: {cv_scores.std()}\")\n"
   ]
  },
  {
   "cell_type": "markdown",
   "metadata": {},
   "source": [
    "## Using PCA"
   ]
  },
  {
   "cell_type": "code",
   "execution_count": 76,
   "metadata": {},
   "outputs": [],
   "source": [
    "# create a copy of the dataframe\n",
    "df_pca = df.copy()"
   ]
  },
  {
   "cell_type": "code",
   "execution_count": 77,
   "metadata": {},
   "outputs": [
    {
     "data": {
      "text/plain": [
       "array([0.49199782, 0.13549369])"
      ]
     },
     "execution_count": 77,
     "metadata": {},
     "output_type": "execute_result"
    }
   ],
   "source": [
    "# Use LabelEnconder on crypto_id\n",
    "from sklearn.preprocessing import LabelEncoder\n",
    "from sklearn.decomposition import PCA\n",
    "\n",
    "le = LabelEncoder()\n",
    "df_pca['crypto_id'] = le.fit_transform(df_pca['crypto_id'])\n",
    "\n",
    "# Drop column date\n",
    "df_pca = df_pca.drop(columns=['date'])\n",
    "\n",
    "# Define the features\n",
    "features = ['volatility', 'return', 'volume', 'diff_oc', 'ma_5', 'ma_10'] \n",
    "features_df = df_pca[features].copy()\n",
    "\n",
    "# Define target and features\n",
    "target = 'volatility'\n",
    "\n",
    "# Split the data into features (X) and target (y)\n",
    "X = features_df[features]\n",
    "y = features_df[target]\n",
    "\n",
    "# Standardize the data before applying PCA\n",
    "scaler = StandardScaler()\n",
    "df_pca_scaled = scaler.fit_transform(df_pca.drop(columns=['price_movement']))\n",
    "\n",
    "# Apply PCA to reduce dimensionality\n",
    "pca = PCA(n_components=2)  # Reducing to 2 principal components for visualization\n",
    "df_pca_transformed = pca.fit_transform(df_pca_scaled)\n",
    "\n",
    "# Create a DataFrame to visualize the principal components\n",
    "pca_df = pd.DataFrame(data=df_pca_transformed, columns=['PC1', 'PC2'])\n",
    "pca_df['price_movement'] = df_pca['price_movement'].values\n",
    "\n",
    "# Display the explained variance ratio to understand how much information is retained\n",
    "explained_variance\n"
   ]
  },
  {
   "cell_type": "code",
   "execution_count": 78,
   "metadata": {},
   "outputs": [
    {
     "data": {
      "image/png": "[encoded data removed]",
      "text/plain": [
       "<Figure size 1000x600 with 1 Axes>"
      ]
     },
     "metadata": {},
     "output_type": "display_data"
    }
   ],
   "source": [
    "# Plot PCA results\n",
    "plt.figure(figsize=(10, 6))\n",
    "sns.scatterplot(data=pca_df, x='PC1', y='PC2', hue='price_movement', palette='viridis')\n",
    "plt.title('PCA of Features')\n",
    "plt.xlabel('Principal Component 1')\n",
    "plt.ylabel('Principal Component 2')\n",
    "plt.legend(title='Price Movement')\n",
    "plt.show()\n"
   ]
  },
  {
   "cell_type": "code",
   "execution_count": 79,
   "metadata": {},
   "outputs": [
    {
     "name": "stdout",
     "output_type": "stream",
     "text": [
      "Training Mean Squared Error (MSE) with PCA: 3.4288401204132936e-27\n",
      "Training R-squared (R2) with PCA: 1.0\n",
      "Testing Mean Squared Error (MSE) with PCA: 1.3494891954093167e-26\n",
      "Testing R-squared (R2) with PCA: 1.0\n"
     ]
    }
   ],
   "source": [
    "# Calculate Mean Squared Error (MSE) and R-squared (R2) for both training and testing sets using PCA data\n",
    "mse_train_pca = mean_squared_error(y_train, y_train_pred)\n",
    "mse_test_pca = mean_squared_error(y_test, y_test_pred)\n",
    "\n",
    "r2_train_pca = r2_score(y_train, y_train_pred)\n",
    "r2_test_pca = r2_score(y_test, y_test_pred)\n",
    "\n",
    "# Print the results\n",
    "print(\"Training Mean Squared Error (MSE) with PCA:\", mse_train_pca)\n",
    "print(\"Training R-squared (R2) with PCA:\", r2_train_pca)\n",
    "print(\"Testing Mean Squared Error (MSE) with PCA:\", mse_test_pca)\n",
    "print(\"Testing R-squared (R2) with PCA:\", r2_test_pca)"
   ]
  },
  {
   "cell_type": "code",
   "execution_count": 80,
   "metadata": {},
   "outputs": [
    {
     "name": "stdout",
     "output_type": "stream",
     "text": [
      "All scores: [-1.58634294e-03 -3.12756462e-04 -1.47325885e-03 -4.58121941e-03\n",
      " -1.79456429e-05]\n",
      "Mean score: -0.0015943046607045375\n",
      "Standard Deviation: 0.0016163940579586543\n"
     ]
    }
   ],
   "source": [
    "# Examine linear regression on the better training data using cross validation\n",
    "from sklearn.model_selection import cross_val_score\n",
    "\n",
    "# Combine X_train and X_test to create X_full_train\n",
    "X_full_train_pca = np.concatenate((pca_df[['PC1', 'PC2']].values[:len(X_train)], pca_df[['PC1', 'PC2']].values[len(X_train):]), axis=0)\n",
    "y_full_train = np.concatenate((y_train, y_test), axis=0)\n",
    "\n",
    "cv_scores_pca = cross_val_score(LinearRegression(), X_full_train_pca, y_full_train, scoring=\"r2\")\n",
    "print(f\"All scores: {cv_scores_pca}\")\n",
    "print(f\"Mean score: {cv_scores_pca.mean()}\")\n",
    "print(f\"Standard Deviation: {cv_scores_pca.std()}\")"
   ]
  },
  {
   "cell_type": "markdown",
   "metadata": {},
   "source": [
    "## MinMaxScaler"
   ]
  },
  {
   "cell_type": "code",
   "execution_count": 81,
   "metadata": {},
   "outputs": [],
   "source": [
    "from sklearn.preprocessing import MinMaxScaler\n",
    "\n",
    "# Apply MinMaxScaler to the features\n",
    "minmax_scaler = MinMaxScaler()\n",
    "X_train_minmax = minmax_scaler.fit_transform(X_train)\n",
    "X_test_minmax = minmax_scaler.transform(X_test)\n",
    "\n"
   ]
  },
  {
   "cell_type": "code",
   "execution_count": 82,
   "metadata": {},
   "outputs": [
    {
     "data": {
      "text/html": [
       "<div>\n",
       "<style scoped>\n",
       "    .dataframe tbody tr th:only-of-type {\n",
       "        vertical-align: middle;\n",
       "    }\n",
       "\n",
       "    .dataframe tbody tr th {\n",
       "        vertical-align: top;\n",
       "    }\n",
       "\n",
       "    .dataframe thead th {\n",
       "        text-align: right;\n",
       "    }\n",
       "</style>\n",
       "<table border=\"1\" class=\"dataframe\">\n",
       "  <thead>\n",
       "    <tr style=\"text-align: right;\">\n",
       "      <th></th>\n",
       "      <th>date</th>\n",
       "      <th>crypto_id</th>\n",
       "      <th>open</th>\n",
       "      <th>close</th>\n",
       "      <th>high</th>\n",
       "      <th>low</th>\n",
       "      <th>volume</th>\n",
       "      <th>number_of_trades</th>\n",
       "      <th>diff_oc</th>\n",
       "      <th>return</th>\n",
       "      <th>volatility</th>\n",
       "      <th>vol_change</th>\n",
       "      <th>ma_5</th>\n",
       "      <th>ma_10</th>\n",
       "      <th>price_movement</th>\n",
       "    </tr>\n",
       "  </thead>\n",
       "  <tbody>\n",
       "    <tr>\n",
       "      <th>0</th>\n",
       "      <td>2020-09-22</td>\n",
       "      <td>AVAX</td>\n",
       "      <td>0.8500</td>\n",
       "      <td>5.3193</td>\n",
       "      <td>7.0000</td>\n",
       "      <td>0.8500</td>\n",
       "      <td>1.277574e-07</td>\n",
       "      <td>375884</td>\n",
       "      <td>0.459837</td>\n",
       "      <td>0.523101</td>\n",
       "      <td>0.147600</td>\n",
       "      <td>0.000000</td>\n",
       "      <td>0.000000</td>\n",
       "      <td>0.0</td>\n",
       "      <td>1</td>\n",
       "    </tr>\n",
       "    <tr>\n",
       "      <th>1</th>\n",
       "      <td>2020-09-23</td>\n",
       "      <td>AVAX</td>\n",
       "      <td>5.3279</td>\n",
       "      <td>3.5350</td>\n",
       "      <td>5.3600</td>\n",
       "      <td>3.4000</td>\n",
       "      <td>5.128061e-08</td>\n",
       "      <td>168336</td>\n",
       "      <td>0.459428</td>\n",
       "      <td>0.017889</td>\n",
       "      <td>0.007439</td>\n",
       "      <td>-59.860521</td>\n",
       "      <td>0.000000</td>\n",
       "      <td>0.0</td>\n",
       "      <td>0</td>\n",
       "    </tr>\n",
       "    <tr>\n",
       "      <th>2</th>\n",
       "      <td>2020-09-24</td>\n",
       "      <td>AVAX</td>\n",
       "      <td>3.5305</td>\n",
       "      <td>4.6411</td>\n",
       "      <td>4.8873</td>\n",
       "      <td>3.4033</td>\n",
       "      <td>2.888050e-08</td>\n",
       "      <td>104806</td>\n",
       "      <td>0.459617</td>\n",
       "      <td>0.076685</td>\n",
       "      <td>0.008510</td>\n",
       "      <td>-43.680654</td>\n",
       "      <td>0.000000</td>\n",
       "      <td>0.0</td>\n",
       "      <td>1</td>\n",
       "    </tr>\n",
       "    <tr>\n",
       "      <th>3</th>\n",
       "      <td>2020-09-25</td>\n",
       "      <td>AVAX</td>\n",
       "      <td>4.6366</td>\n",
       "      <td>4.7134</td>\n",
       "      <td>5.0234</td>\n",
       "      <td>4.2001</td>\n",
       "      <td>1.578952e-08</td>\n",
       "      <td>78381</td>\n",
       "      <td>0.459550</td>\n",
       "      <td>0.049774</td>\n",
       "      <td>0.003555</td>\n",
       "      <td>-45.326645</td>\n",
       "      <td>0.000000</td>\n",
       "      <td>0.0</td>\n",
       "      <td>1</td>\n",
       "    </tr>\n",
       "    <tr>\n",
       "      <th>4</th>\n",
       "      <td>2020-09-26</td>\n",
       "      <td>AVAX</td>\n",
       "      <td>4.7164</td>\n",
       "      <td>4.5200</td>\n",
       "      <td>4.8200</td>\n",
       "      <td>4.3294</td>\n",
       "      <td>7.373723e-09</td>\n",
       "      <td>34016</td>\n",
       "      <td>0.459532</td>\n",
       "      <td>0.044518</td>\n",
       "      <td>0.002054</td>\n",
       "      <td>-53.296763</td>\n",
       "      <td>0.000043</td>\n",
       "      <td>0.0</td>\n",
       "      <td>0</td>\n",
       "    </tr>\n",
       "  </tbody>\n",
       "</table>\n",
       "</div>"
      ],
      "text/plain": [
       "         date crypto_id    open   close    high     low        volume  \\\n",
       "0  2020-09-22      AVAX  0.8500  5.3193  7.0000  0.8500  1.277574e-07   \n",
       "1  2020-09-23      AVAX  5.3279  3.5350  5.3600  3.4000  5.128061e-08   \n",
       "2  2020-09-24      AVAX  3.5305  4.6411  4.8873  3.4033  2.888050e-08   \n",
       "3  2020-09-25      AVAX  4.6366  4.7134  5.0234  4.2001  1.578952e-08   \n",
       "4  2020-09-26      AVAX  4.7164  4.5200  4.8200  4.3294  7.373723e-09   \n",
       "\n",
       "   number_of_trades   diff_oc    return  volatility  vol_change      ma_5  \\\n",
       "0            375884  0.459837  0.523101    0.147600    0.000000  0.000000   \n",
       "1            168336  0.459428  0.017889    0.007439  -59.860521  0.000000   \n",
       "2            104806  0.459617  0.076685    0.008510  -43.680654  0.000000   \n",
       "3             78381  0.459550  0.049774    0.003555  -45.326645  0.000000   \n",
       "4             34016  0.459532  0.044518    0.002054  -53.296763  0.000043   \n",
       "\n",
       "   ma_10  price_movement  \n",
       "0    0.0               1  \n",
       "1    0.0               0  \n",
       "2    0.0               1  \n",
       "3    0.0               1  \n",
       "4    0.0               0  "
      ]
     },
     "execution_count": 82,
     "metadata": {},
     "output_type": "execute_result"
    }
   ],
   "source": [
    "# Apply MinMaxScaler to the entire dataset\n",
    "df_scaled_mms = df.copy()\n",
    "scaler = MinMaxScaler()\n",
    "df_scaled_mms[features] = scaler.fit_transform(df[features])\n",
    "\n",
    "# Display the first few rows of the scaled dataset\n",
    "df_scaled_mms.head()"
   ]
  },
  {
   "cell_type": "code",
   "execution_count": 83,
   "metadata": {},
   "outputs": [
    {
     "data": {
      "text/html": [
       "<div>\n",
       "<style scoped>\n",
       "    .dataframe tbody tr th:only-of-type {\n",
       "        vertical-align: middle;\n",
       "    }\n",
       "\n",
       "    .dataframe tbody tr th {\n",
       "        vertical-align: top;\n",
       "    }\n",
       "\n",
       "    .dataframe thead th {\n",
       "        text-align: right;\n",
       "    }\n",
       "</style>\n",
       "<table border=\"1\" class=\"dataframe\">\n",
       "  <thead>\n",
       "    <tr style=\"text-align: right;\">\n",
       "      <th></th>\n",
       "      <th>Mean Squared Error</th>\n",
       "      <th>R-squared Score</th>\n",
       "    </tr>\n",
       "  </thead>\n",
       "  <tbody>\n",
       "    <tr>\n",
       "      <th>Linear Regression</th>\n",
       "      <td>2.914516e-33</td>\n",
       "      <td>1.000000</td>\n",
       "    </tr>\n",
       "    <tr>\n",
       "      <th>Ridge Regression</th>\n",
       "      <td>3.061514e-05</td>\n",
       "      <td>0.810456</td>\n",
       "    </tr>\n",
       "    <tr>\n",
       "      <th>Lasso Regression</th>\n",
       "      <td>1.615238e-04</td>\n",
       "      <td>-0.000022</td>\n",
       "    </tr>\n",
       "  </tbody>\n",
       "</table>\n",
       "</div>"
      ],
      "text/plain": [
       "                   Mean Squared Error  R-squared Score\n",
       "Linear Regression        2.914516e-33         1.000000\n",
       "Ridge Regression         3.061514e-05         0.810456\n",
       "Lasso Regression         1.615238e-04        -0.000022"
      ]
     },
     "execution_count": 83,
     "metadata": {},
     "output_type": "execute_result"
    }
   ],
   "source": [
    "# Define the features and target\n",
    "features = ['volatility', 'return', 'volume', 'diff_oc', 'ma_5', 'ma_10']\n",
    "target = 'volatility'\n",
    "\n",
    "# Split the data into features (X) and target (y)\n",
    "X = df_scaled_mms[features]\n",
    "y = df_scaled_mms[target]\n",
    "\n",
    "# Split the data into training and testing sets\n",
    "X_train, X_test, y_train, y_test = train_test_split(X, y, test_size=0.2, random_state=42)\n",
    "\n",
    "# Initialize models\n",
    "models = {\n",
    "    'Linear Regression': LinearRegression(),\n",
    "    'Ridge Regression': Ridge(alpha=1.0),\n",
    "    'Lasso Regression': Lasso(alpha=0.01)\n",
    "}\n",
    "\n",
    "# Train and evaluate models\n",
    "results = {}\n",
    "\n",
    "for model_name, model in models.items():\n",
    "    model.fit(X_train, y_train)\n",
    "    y_pred = model.predict(X_test)\n",
    "    mse = mean_squared_error(y_test, y_pred)\n",
    "    r2 = r2_score(y_test, y_pred)\n",
    "    results[model_name] = {\n",
    "        'Mean Squared Error': mse,\n",
    "        'R-squared Score': r2\n",
    "    }\n",
    "\n",
    "results_df = pd.DataFrame(results).T\n",
    "results_df\n",
    "\n"
   ]
  },
  {
   "cell_type": "code",
   "execution_count": null,
   "metadata": {},
   "outputs": [],
   "source": []
  }
 ],
 "metadata": {
  "kernelspec": {
   "display_name": "Python 3",
   "language": "python",
   "name": "python3"
  },
  "language_info": {
   "codemirror_mode": {
    "name": "ipython",
    "version": 3
   },
   "file_extension": ".py",
   "mimetype": "text/x-python",
   "name": "python",
   "nbconvert_exporter": "python",
   "pygments_lexer": "ipython3",
   "version": "3.13.1"
  }
 },
 "nbformat": 4,
 "nbformat_minor": 2
}
